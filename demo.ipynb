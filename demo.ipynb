{
 "cells": [
  {
   "cell_type": "markdown",
   "metadata": {},
   "source": [
    "# Libraries"
   ]
  },
  {
   "cell_type": "code",
   "execution_count": null,
   "metadata": {},
   "outputs": [],
   "source": [
    "import numpy as np\n",
    "from glob import glob\n",
    "from time import time\n",
    "from PIL import Image\n",
    "import os, cv2, torch\n",
    "from matplotlib import pyplot as plt\n",
    "\n",
    "from demo import CISDL, SoftmaxMask"
   ]
  },
  {
   "cell_type": "markdown",
   "metadata": {},
   "source": [
    "# Run"
   ]
  },
  {
   "cell_type": "code",
   "execution_count": null,
   "metadata": {},
   "outputs": [],
   "source": [
    "probe = 'im1_1.jpg'\n",
    "donor = 'im1_2.jpg'\n",
    "softmax_mask = SoftmaxMask()\n",
    "\n",
    "output0, output1 = CISDL(probe, donor) \n",
    "output0 = softmax_mask(output0).cpu().data[0].numpy()\n",
    "output1 = softmax_mask(output1).cpu().data[0].numpy()\n",
    "output0 = np.uint8(output0 * 255)\n",
    "output1 = np.uint8(output1 * 255)\n",
    "mask0 = cv2.applyColorMap(output0,cv2.COLORMAP_JET)\n",
    "mask1 = cv2.applyColorMap(output1,cv2.COLORMAP_JET)\n",
    "mask0 = cv2.resize(mask0, None, fx=2.0, fy=2.0)\n",
    "mask1 = cv2.resize(mask1, None, fx=2.0, fy=2.0)\n",
    "\n",
    "print(mask0.shape, mask1.shape)\n",
    "print(cv2.imread(probe).shape, cv2.imread(donor).shape)"
   ]
  },
  {
   "cell_type": "code",
   "execution_count": null,
   "metadata": {},
   "outputs": [],
   "source": [
    "plt.figure(figsize=(16,8))\n",
    "plt.subplot(1,2,1)\n",
    "plt.imshow(cv2.imread(probe)[...,::-1]); plt.imshow(mask0, alpha=0.5, vmin=0.0, vmax=1.0); plt.axis('off')\n",
    "plt.subplot(1,2,2)\n",
    "plt.imshow(cv2.imread(donor)[...,::-1]); plt.imshow(mask1, alpha=0.5, vmin=0.0, vmax=1.0); plt.axis('off')\n",
    "plt.show()"
   ]
  },
  {
   "cell_type": "code",
   "execution_count": null,
   "metadata": {},
   "outputs": [],
   "source": []
  }
 ],
 "metadata": {
  "kernelspec": {
   "display_name": "Python 3",
   "language": "python",
   "name": "python3"
  },
  "language_info": {
   "codemirror_mode": {
    "name": "ipython",
    "version": 3
   },
   "file_extension": ".py",
   "mimetype": "text/x-python",
   "name": "python",
   "nbconvert_exporter": "python",
   "pygments_lexer": "ipython3",
   "version": "3.6.5"
  }
 },
 "nbformat": 4,
 "nbformat_minor": 2
}
